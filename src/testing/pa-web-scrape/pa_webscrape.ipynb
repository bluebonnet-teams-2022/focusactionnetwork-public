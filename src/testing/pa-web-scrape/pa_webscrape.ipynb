{
  "cells": [
    {
      "cell_type": "code",
      "execution_count": 3,
      "metadata": {
        "id": "Um9eEZEK8H3O"
      },
      "outputs": [],
      "source": [
        "#imports\n",
        "from urllib.request import urlopen\n",
        "from bs4 import BeautifulSoup\n",
        "import re"
      ]
    },
    {
      "cell_type": "code",
      "execution_count": 4,
      "metadata": {
        "id": "SyE7iIFm-3qd"
      },
      "outputs": [],
      "source": [
        "#getting one url from the rolls\n",
        "url = 'https://www.legis.state.pa.us/cfdocs/legis/RC/Public/rc_view_action2.cfm?sess_yr=2021&sess_ind=0&rc_body=S&rc_nbr=657'\n",
        "tag = 'div'"
      ]
    },
    {
      "cell_type": "code",
      "execution_count": 5,
      "metadata": {
        "id": "oKtAu_Uu8gVQ"
      },
      "outputs": [],
      "source": [
        "#creating the soups\n",
        "html = urlopen(url)\n",
        "bs = BeautifulSoup(html.read(), 'html.parser')"
      ]
    },
    {
      "cell_type": "code",
      "execution_count": null,
      "metadata": {},
      "outputs": [],
      "source": [
        "#takes in the tag and tag attributes to return a list of roll call votes in the format \"(Y/N) CANDIATE-NAME\"  \n",
        "def vote_side_list(tag, tagAttrs):\n",
        "  nameList = bs.find_all(tag, tagAttrs)\n",
        "  list_string = []\n",
        "  for name in nameList:\n",
        "      value = name.get_text()\n",
        "      list_string.append(value)\n",
        "\n",
        "  return list_string"
      ]
    },
    {
      "cell_type": "code",
      "execution_count": null,
      "metadata": {},
      "outputs": [],
      "source": [
        "#vote_side_list has lots of trailing and newline chars so those get stripped in this function\n",
        "#takes in the list generated from vote_side_list\n",
        "def strip_text_lists(person_list):\n",
        "  clean_list_names = []\n",
        "  for name in person_list:\n",
        "    strip_string = name.strip()\n",
        "    reduce_string = re.sub(r'.', '', strip_string, count=2)\n",
        "    clean_list_names.append(reduce_string)\n",
        "\n",
        "  return clean_list_names"
      ]
    },
    {
      "cell_type": "code",
      "execution_count": null,
      "metadata": {},
      "outputs": [],
      "source": [
        "#combines the strip_text_lists and vote_side_list to return a list of canidate vote for yea or nay\n",
        "def clean_tally_roll_call(tag, tagAttrs):\n",
        "  return (strip_text_lists(vote_side_list(tag, tagAttrs)))"
      ]
    },
    {
      "cell_type": "code",
      "execution_count": null,
      "metadata": {},
      "outputs": [],
      "source": [
        "#getting the yea votes for one voting measure\n",
        "tag = 'div'\n",
        "tagAttrs = {'class':'RollCalls-Vote-Senate RollCalls-Vote-Yeas'}\n",
        "yea_clean_list = clean_tally_roll_call(tag, tagAttrs)"
      ]
    },
    {
      "cell_type": "code",
      "execution_count": null,
      "metadata": {},
      "outputs": [],
      "source": [
        "#getting the nay votes for one voting measure\n",
        "tagAttrs = {'class':'RollCalls-Vote-Senate RollCalls-Vote-Nays'}\n",
        "nay_clean_list = clean_tally_roll_call(tag, tagAttrs)"
      ]
    },
    {
      "cell_type": "code",
      "execution_count": null,
      "metadata": {},
      "outputs": [],
      "source": [
        "print(yea_clean_list)"
      ]
    },
    {
      "cell_type": "code",
      "execution_count": null,
      "metadata": {},
      "outputs": [],
      "source": [
        "print(nay_clean_list)"
      ]
    }
  ],
  "metadata": {
    "colab": {
      "collapsed_sections": [],
      "name": "pa-webscrape.ipynb",
      "provenance": []
    },
    "kernelspec": {
      "display_name": "Python 3.9.6 64-bit",
      "language": "python",
      "name": "python3"
    },
    "language_info": {
      "codemirror_mode": {
        "name": "ipython",
        "version": 3
      },
      "file_extension": ".py",
      "mimetype": "text/x-python",
      "name": "python",
      "nbconvert_exporter": "python",
      "pygments_lexer": "ipython3",
      "version": "3.9.6"
    },
    "vscode": {
      "interpreter": {
        "hash": "32e86c8c8cb69a85b16acf391defbab58f7583a2c764d94932c5956d3f5a9a4a"
      }
    }
  },
  "nbformat": 4,
  "nbformat_minor": 0
}
