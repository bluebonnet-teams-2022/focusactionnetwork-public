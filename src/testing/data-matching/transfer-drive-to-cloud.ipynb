{
 "cells": [
  {
   "cell_type": "markdown",
   "metadata": {},
   "source": [
    "Uploading from Google Drive to Google Cloud Storage, based on this [Medium article](https://philipplies.medium.com/transferring-data-from-google-drive-to-google-cloud-storage-using-google-colab-96e088a8c041). This is good our files which are around 10-20GB and better in large cloud providers than local copies."
   ]
  },
  {
   "cell_type": "code",
   "execution_count": null,
   "metadata": {},
   "outputs": [],
   "source": [
    "#mounting the Google Drive to the Colab notebook\n",
    "from google.colab import drive\n",
    "drive.mount('/content/drive')"
   ]
  },
  {
   "cell_type": "code",
   "execution_count": null,
   "metadata": {},
   "outputs": [],
   "source": [
    "#connecting to GCP project\n",
    "#project_id should be the desired project in GCP \n",
    "from google.colab import auth\n",
    "auth.authenticate_user()\n",
    "project_id = 'bbd-data-matching-2'\n",
    "!gcloud config set project {project_id}\n",
    "!gsutil ls"
   ]
  },
  {
   "cell_type": "code",
   "execution_count": null,
   "metadata": {},
   "outputs": [],
   "source": [
    "#upload for MI L2 files to the MI bucket\n",
    "bucket_name = 'mi-tab-vm2uniform'\n",
    "\n",
    "!gsutil -m cp -r /content/drive/My\\ Drive/bbd-personal/VM2Uniform--MI--2022-03-30.tab gs://{bucket_name}/"
   ]
  },
  {
   "cell_type": "code",
   "execution_count": null,
   "metadata": {},
   "outputs": [],
   "source": [
    "#upload for AZ L2 files to the AZ bucket\n",
    "bucket_name = 'az-tab-vm2uniform'\n",
    "\n",
    "!gsutil -m cp -r /content/drive/My\\ Drive/bbd-personal/VM2Uniform--AZ--2022-05-23.tab gs://{bucket_name}/"
   ]
  },
  {
   "cell_type": "code",
   "execution_count": null,
   "metadata": {},
   "outputs": [],
   "source": [
    "#upload of the PA L2 files to the PA bucket\n",
    "bucket_name = 'pa-tab--vm2uniform'\n",
    "\n",
    "!gsutil -m cp -r /content/drive/My\\ Drive/bbd-personal/VM2Uniform--PA--2022-03-28.tab gs://{bucket_name}/"
   ]
  }
 ],
 "metadata": {
  "language_info": {
   "name": "python"
  },
  "orig_nbformat": 4
 },
 "nbformat": 4,
 "nbformat_minor": 2
}
